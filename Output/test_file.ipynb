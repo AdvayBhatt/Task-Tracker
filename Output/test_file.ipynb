{
 "cells": [
  {
   "cell_type": "code",
   "execution_count": 6,
   "id": "fd954b53",
   "metadata": {},
   "outputs": [],
   "source": [
    "import json\n",
    "import sys\n",
    "from datetime import datetime"
   ]
  },
  {
   "cell_type": "code",
   "execution_count": 8,
   "id": "b649d4e5",
   "metadata": {},
   "outputs": [
    {
     "data": {
      "text/plain": [
       "'with open(\"data.json\", \"r\") as f:\\n   data = json.load(f)\\nprint(data)'"
      ]
     },
     "execution_count": 8,
     "metadata": {},
     "output_type": "execute_result"
    }
   ],
   "source": [
    "'''with open(\"data.json\", \"r\") as f:\n",
    "   data = json.load(f)\n",
    "print(data)'''"
   ]
  },
  {
   "cell_type": "code",
   "execution_count": 9,
   "id": "12eb61c6",
   "metadata": {},
   "outputs": [
    {
     "data": {
      "text/plain": [
       "'with open(\"data2.json\", \"w\") as f:\\n    json.dump(data, f)'"
      ]
     },
     "execution_count": 9,
     "metadata": {},
     "output_type": "execute_result"
    }
   ],
   "source": [
    "'''with open(\"data2.json\", \"w\") as f:\n",
    "    json.dump(data, f)'''"
   ]
  },
  {
   "cell_type": "code",
   "execution_count": 10,
   "id": "fb6bd6a8",
   "metadata": {},
   "outputs": [
    {
     "name": "stdout",
     "output_type": "stream",
     "text": [
      "File exists and is ready to read\n"
     ]
    }
   ],
   "source": [
    "try:\n",
    "    file_needed = \"data.json\"\n",
    "    with open(file_needed, 'r') as file:\n",
    "        print(\"File exists and is ready to read\")\n",
    "except FileNotFoundError:\n",
    "    with open(\"data.json\", \"w\") as f:\n",
    "        json.dump([], f)"
   ]
  },
  {
   "cell_type": "code",
   "execution_count": 11,
   "id": "80ef50e3",
   "metadata": {},
   "outputs": [],
   "source": [
    "with open(\"data.json\", \"r\") as f:\n",
    "    data = json.load(f)"
   ]
  },
  {
   "cell_type": "code",
   "execution_count": 12,
   "id": "e3a9b046",
   "metadata": {},
   "outputs": [],
   "source": [
    "my_list =[{\"fruit\": \"apple\", \"animal\": \"bear\"}]\n",
    "\n",
    "my_list.append({\"veg\": \"onion\"})"
   ]
  },
  {
   "cell_type": "code",
   "execution_count": 13,
   "id": "6771b814",
   "metadata": {},
   "outputs": [
    {
     "data": {
      "text/plain": [
       "[{'fruit': 'apple', 'animal': 'bear'}, {'veg': 'onion'}]"
      ]
     },
     "execution_count": 13,
     "metadata": {},
     "output_type": "execute_result"
    }
   ],
   "source": [
    "my_list"
   ]
  },
  {
   "cell_type": "code",
   "execution_count": 14,
   "id": "7863051e",
   "metadata": {},
   "outputs": [
    {
     "data": {
      "text/plain": [
       "{'fruit': 'apple', 'animal': 'bear'}"
      ]
     },
     "execution_count": 14,
     "metadata": {},
     "output_type": "execute_result"
    }
   ],
   "source": [
    "my_dict = {\"fruit\": \"apple\", \"animal\": \"bear\"}\n",
    "my_dict"
   ]
  },
  {
   "cell_type": "code",
   "execution_count": 15,
   "id": "bd862af7",
   "metadata": {},
   "outputs": [
    {
     "data": {
      "text/plain": [
       "3"
      ]
     },
     "execution_count": 15,
     "metadata": {},
     "output_type": "execute_result"
    }
   ],
   "source": [
    "list_thing = [1, 2, 3]\n",
    "len(list_thing)"
   ]
  },
  {
   "cell_type": "code",
   "execution_count": 17,
   "id": "92d067b5",
   "metadata": {},
   "outputs": [],
   "source": [
    "data = [\n",
    "    {\n",
    "        \"id\": 1,\n",
    "        \"description\": \"make lunch\",\n",
    "        \"status\": \"done\",\n",
    "        \"createdAt\": \"2025-08-10T16:14:04\",\n",
    "        \"updatedAt\": \"2025-08-10T16:15:19\"\n",
    "    },\n",
    "    {\n",
    "        \"id\": 2,\n",
    "        \"description\": \"make snacks\",\n",
    "        \"status\": \"in-progress\",\n",
    "        \"createdAt\": \"2025-09-10T16:14:04\",\n",
    "        \"updatedAt\": \"2025-09-10T16:15:19\"\n",
    "    },\n",
    "    {\n",
    "        \"id\": 3,\n",
    "        \"description\": \"make dinner\",\n",
    "        \"status\": \"done\",\n",
    "        \"createdAt\": \"2025-10-10T16:14:04\",\n",
    "        \"updatedAt\": \"2025-10-10T16:15:19\"\n",
    "    }\n",
    "\n",
    "]"
   ]
  },
  {
   "cell_type": "code",
   "execution_count": 18,
   "id": "1fe5f2b9",
   "metadata": {},
   "outputs": [],
   "source": [
    "def print_table(data):\n",
    "    headers = [\"Id\", \"Description\", \"Status\", \"Created At\", \"Updated At\"]\n",
    "\n",
    "\n",
    "    created = datetime.strptime(entry['createdAt'], \"%Y-%m-%dT%H:%M:%S\")\n",
    "    updated = datetime.strptime(entry['updatedAt'], \"%Y-%m-%dT%H:%M:%S\")\n",
    "            \n",
    "    created_str = created.strftime(\"%b %d, %Y %I:%M %p\")\n",
    "    updated_str = updated.strftime(\"%b %d, %Y %I:%M %p\")\n",
    "\n",
    "    # Combine headers + data to calculate widths\n",
    "    col_widths = []\n",
    "    for i, header in enumerate(headers):\n",
    "        max_len = max(len(str(row[i])) for row in ([headers] + [\n",
    "            [entry['id'], entry['description'], entry['status'], created_str, updated_str]\n",
    "            for entry in data\n",
    "        ]))\n",
    "        col_widths.append(max_len)\n",
    "\n",
    "    # Function to make a border line\n",
    "    def make_border(left, mid, right, fill):\n",
    "        return left + mid.join(fill * (w + 2) for w in col_widths) + right\n",
    "\n",
    "    # Print header border\n",
    "    print(make_border(\"╭\", \"┬\", \"╮\", \"─\"))\n",
    "\n",
    "    # Print headers\n",
    "    header_row = \"│ \" + \" │ \".join(header.ljust(w) for header, w in zip(headers, col_widths)) + \" │\"\n",
    "    print(header_row)\n",
    "\n",
    "    # Header separator\n",
    "    print(make_border(\"├\", \"┼\", \"┤\", \"─\"))\n",
    "\n",
    "    # Print data rows\n",
    "    for entry in data:\n",
    "        row = \"│ \" + \" │ \".join(str(val).ljust(w) for val, w in zip([\n",
    "            entry['id'], entry['description'], entry['status'], created_str, updated_str\n",
    "        ], col_widths)) + \" │\"\n",
    "        print(row)\n",
    "\n",
    "    # Footer border\n",
    "    print(make_border(\"╰\", \"┴\", \"╯\", \"─\"))"
   ]
  },
  {
   "cell_type": "code",
   "execution_count": null,
   "id": "85cccdc8",
   "metadata": {},
   "outputs": [],
   "source": [
    "string = input(\"Put the command:\")\n",
    "split_string = string.split()\n",
    "print(split_string)\n",
    "\n",
    "\n",
    "def list_tasks(data):\n",
    "    try:\n",
    "        if sys.argv[2] in sys.argv:\n",
    "            match sys.argv[2]:\n",
    "                case \"done\":\n",
    "                    for entry in data:\n",
    "                        filtered_data = filtered_data.append(data[entry['status'] == 'done'])\n",
    "                    print_table(filtered_data)\n",
    "                case \"todo\":\n",
    "                    for entry in data:\n",
    "                        filtered_data = filtered_data.append(data[entry['status'] == 'todo'])\n",
    "                    print_table(filtered_data)\n",
    "                case \"in-progress\":\n",
    "                    for entry in data:\n",
    "                        filtered_data = filtered_data.append(data[entry['status'] == 'in-progress'])\n",
    "                    print_table(filtered_data)\n",
    "                case _:\n",
    "                    print(\"Error: Not a valid list argument: \", sys.argv[2])\n",
    "    except:\n",
    "        print_table(data)\n",
    "\n",
    "list_tasks(data)"
   ]
  },
  {
   "cell_type": "code",
   "execution_count": 25,
   "id": "d55ed8a3",
   "metadata": {},
   "outputs": [],
   "source": [
    "from tabulate import tabulate"
   ]
  },
  {
   "cell_type": "code",
   "execution_count": 32,
   "id": "86a6aa4a",
   "metadata": {},
   "outputs": [
    {
     "name": "stdout",
     "output_type": "stream",
     "text": [
      "╒══════╤═══════════════╤═════════════╤═════════════════════╤═════════════════════╕\n",
      "│   ID │ Description   │ Status      │ Created At          │ Updated At          │\n",
      "╞══════╪═══════════════╪═════════════╪═════════════════════╪═════════════════════╡\n",
      "│    1 │ make lunch    │ done        │ 2025-08-10T16:14:04 │ 2025-08-10T16:15:19 │\n",
      "├──────┼───────────────┼─────────────┼─────────────────────┼─────────────────────┤\n",
      "│    2 │ make snacks   │ in-progress │ 2025-09-10T16:14:04 │ 2025-09-10T16:15:19 │\n",
      "├──────┼───────────────┼─────────────┼─────────────────────┼─────────────────────┤\n",
      "│    3 │ make dinner   │ done        │ 2025-10-10T16:14:04 │ 2025-10-10T16:15:19 │\n",
      "╘══════╧═══════════════╧═════════════╧═════════════════════╧═════════════════════╛\n"
     ]
    }
   ],
   "source": [
    "table_data = [\n",
    "    [entry['id'], entry['description'], entry['status'], entry['createdAt'], entry['updatedAt']]\n",
    "    for entry in data\n",
    "]\n",
    "\n",
    "headers = [\"ID\", \"Description\", \"Status\", \"Created At\", \"Updated At\"]\n",
    "\n",
    "table = tabulate(table_data, headers=headers, tablefmt=\"fancy_grid\")\n",
    "print(table)\n"
   ]
  },
  {
   "cell_type": "code",
   "execution_count": null,
   "id": "314835e3",
   "metadata": {},
   "outputs": [],
   "source": []
  }
 ],
 "metadata": {
  "kernelspec": {
   "display_name": "Python 3",
   "language": "python",
   "name": "python3"
  },
  "language_info": {
   "codemirror_mode": {
    "name": "ipython",
    "version": 3
   },
   "file_extension": ".py",
   "mimetype": "text/x-python",
   "name": "python",
   "nbconvert_exporter": "python",
   "pygments_lexer": "ipython3",
   "version": "3.13.1"
  }
 },
 "nbformat": 4,
 "nbformat_minor": 5
}
