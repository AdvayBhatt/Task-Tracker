{
 "cells": [
  {
   "cell_type": "code",
   "execution_count": 4,
   "id": "fd954b53",
   "metadata": {},
   "outputs": [],
   "source": [
    "import json\n",
    "import sys\n",
    "import os"
   ]
  },
  {
   "cell_type": "code",
   "execution_count": 5,
   "id": "b649d4e5",
   "metadata": {},
   "outputs": [
    {
     "data": {
      "text/plain": [
       "'with open(\"data.json\", \"r\") as f:\\n   data = json.load(f)\\nprint(data)'"
      ]
     },
     "execution_count": 5,
     "metadata": {},
     "output_type": "execute_result"
    }
   ],
   "source": [
    "'''with open(\"data.json\", \"r\") as f:\n",
    "   data = json.load(f)\n",
    "print(data)'''"
   ]
  },
  {
   "cell_type": "code",
   "execution_count": 6,
   "id": "12eb61c6",
   "metadata": {},
   "outputs": [
    {
     "data": {
      "text/plain": [
       "'with open(\"data2.json\", \"w\") as f:\\n    json.dump(data, f)'"
      ]
     },
     "execution_count": 6,
     "metadata": {},
     "output_type": "execute_result"
    }
   ],
   "source": [
    "'''with open(\"data2.json\", \"w\") as f:\n",
    "    json.dump(data, f)'''"
   ]
  },
  {
   "cell_type": "code",
   "execution_count": 14,
   "id": "fb6bd6a8",
   "metadata": {},
   "outputs": [
    {
     "name": "stdout",
     "output_type": "stream",
     "text": [
      "File exists and is ready to read\n"
     ]
    }
   ],
   "source": [
    "try:\n",
    "    file_needed = \"data.json\"\n",
    "    with open(file_needed, 'r') as file:\n",
    "        print(\"File exists and is ready to read\")\n",
    "except FileNotFoundError:\n",
    "    with open(\"data.json\", \"w\") as f:\n",
    "        json.dump([], f)"
   ]
  },
  {
   "cell_type": "code",
   "execution_count": 15,
   "id": "80ef50e3",
   "metadata": {},
   "outputs": [],
   "source": [
    "with open(\"data.json\", \"r\") as f:\n",
    "    data = json.load(f)"
   ]
  },
  {
   "cell_type": "code",
   "execution_count": 3,
   "id": "e3a9b046",
   "metadata": {},
   "outputs": [],
   "source": [
    "my_list =[{\"fruit\": \"apple\", \"animal\": \"bear\"}]\n",
    "\n",
    "my_list.append({\"veg\": \"onion\"})"
   ]
  },
  {
   "cell_type": "code",
   "execution_count": 4,
   "id": "6771b814",
   "metadata": {},
   "outputs": [
    {
     "data": {
      "text/plain": [
       "[{'fruit': 'apple', 'animal': 'bear'}, {'veg': 'onion'}]"
      ]
     },
     "execution_count": 4,
     "metadata": {},
     "output_type": "execute_result"
    }
   ],
   "source": [
    "my_list"
   ]
  },
  {
   "cell_type": "code",
   "execution_count": null,
   "id": "7863051e",
   "metadata": {},
   "outputs": [],
   "source": [
    "my_dict = {\"fruit\": \"apple\", \"animal\": \"bear\"}\n",
    "my_dict"
   ]
  },
  {
   "cell_type": "code",
   "execution_count": 5,
   "id": "bd862af7",
   "metadata": {},
   "outputs": [
    {
     "data": {
      "text/plain": [
       "3"
      ]
     },
     "execution_count": 5,
     "metadata": {},
     "output_type": "execute_result"
    }
   ],
   "source": [
    "list_thing = [1, 2, 3]\n",
    "len(list_thing)"
   ]
  },
  {
   "cell_type": "code",
   "execution_count": 18,
   "id": "cae99a35",
   "metadata": {},
   "outputs": [
    {
     "name": "stdout",
     "output_type": "stream",
     "text": [
      "['task-cli', 'list', 'in-progress']\n",
      "this is in-progress\n"
     ]
    }
   ],
   "source": [
    "string = input(\"Put the command:\")\n",
    "split_string = string.split()\n",
    "print(split_string)\n",
    "\n",
    "def list_tasks():\n",
    "    try:\n",
    "        if split_string[2] in split_string:\n",
    "            match split_string[2]:\n",
    "                case \"done\":\n",
    "                    print(\"this is done\")\n",
    "                case \"todo\":\n",
    "                    print(\"this is todo\")\n",
    "                case \"in-progress\":\n",
    "                    print(\"this is in-progress\")\n",
    "                case _:\n",
    "                    print(\"this is nothing\")\n",
    "    except:\n",
    "        print(\"this is listing everything\")\n",
    "\n",
    "match split_string[1]:\n",
    "    case \"list\":\n",
    "        list_tasks()\n",
    "    \n",
    "        \n"
   ]
  },
  {
   "cell_type": "code",
   "execution_count": 19,
   "id": "92d067b5",
   "metadata": {},
   "outputs": [],
   "source": [
    "data = [\n",
    "    {\n",
    "        \"id\": 1,\n",
    "        \"description\": \"make lunch\",\n",
    "        \"status\": \"done\",\n",
    "        \"createdAt\": \"2025-08-10T16:14:04\",\n",
    "        \"updatedAt\": \"2025-08-10T16:15:19\"\n",
    "    },\n",
    "    {\n",
    "        \"id\": 2,\n",
    "        \"description\": \"make snacks\",\n",
    "        \"status\": \"in-progress\",\n",
    "        \"createdAt\": \"2025-09-10T16:14:04\",\n",
    "        \"updatedAt\": \"2025-09-10T16:15:19\"\n",
    "    },\n",
    "    {\n",
    "        \"id\": 3,\n",
    "        \"description\": \"make dinner\",\n",
    "        \"status\": \"done\",\n",
    "        \"createdAt\": \"2025-10-10T16:14:04\",\n",
    "        \"updatedAt\": \"2025-10-10T16:15:19\"\n",
    "    }\n",
    "\n",
    "]"
   ]
  },
  {
   "cell_type": "code",
   "execution_count": null,
   "id": "1fe5f2b9",
   "metadata": {},
   "outputs": [],
   "source": []
  }
 ],
 "metadata": {
  "kernelspec": {
   "display_name": "Python 3",
   "language": "python",
   "name": "python3"
  },
  "language_info": {
   "codemirror_mode": {
    "name": "ipython",
    "version": 3
   },
   "file_extension": ".py",
   "mimetype": "text/x-python",
   "name": "python",
   "nbconvert_exporter": "python",
   "pygments_lexer": "ipython3",
   "version": "3.13.1"
  }
 },
 "nbformat": 4,
 "nbformat_minor": 5
}
